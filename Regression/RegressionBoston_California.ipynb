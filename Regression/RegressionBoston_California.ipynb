{
    "cells": [
     {
      "cell_type": "markdown",
      "metadata": {},
      "source": [
       "# 🧠 Inteligência Artificial e Aprendizado de Máquina\n\n",
       "## 📚 Pós-graduação em Desenvolvimento de Aplicações Inteligentes  \n",
       "**🎯 Disciplina:** Inteligência Artificial e Aprendizado de Máquina  \n",
       "**📝 Atividade 01:** Regressão  \n",
       "**👨‍🏫 Professor:** Prof. Dr. Francisco de Assis Boldt  \n"
      ]
     },
     {
      "cell_type": "markdown",
      "metadata": {},
      "source": [
       "## 👤 Informações do Aluno\n\n",
       "- **📛 Nome:** Evandro Canal Severgnini  \n",
       "- **🎓 Matrícula:** 20231devai0149  \n"
      ]
     },
     {
      "cell_type": "markdown",
      "metadata": {},
      "source": [
       "## 📋 Descrição da Atividade\n\n",
       "Nesta atividade, aplicaremos os conceitos de **regressão** utilizando um conjunto de dados adequado. O antigo dataset `load_boston` foi descontinuado no `scikit-learn`, então utilizaremos uma alternativa moderna: o **California Housing**.\n\n",
       "Os passos principais incluem:\n\n",
       "1. 🔄 Carregar o dataset `fetch_california_housing()` do `scikit-learn`.\n",
       "2. 🛠️ Explorar os dados para entender suas características.\n",
       "3. 📊 Aplicar técnicas de regressão para prever valores imobiliários.\n",
       "4. 📎 Documentar cada etapa com explicações claras."
      ]
     },
     {
      "cell_type": "code",
      "metadata": {},
      "source": [
       "# Importando bibliotecas necessárias\n",
       "from sklearn.datasets import fetch_california_housing\n",
       "import pandas as pd\n",
       "import numpy as np\n",
       "import matplotlib.pyplot as plt\n",
       "import seaborn as sns\n\n",
       "# Carregar o dataset California Housing\n",
       "data = fetch_california_housing()\n\n",
       "# Criar um DataFrame com os dados\n",
       "df = pd.DataFrame(data.data, columns=data.feature_names)\n\n",
       "# Adicionar a variável alvo (preço médio das casas)\n",
       "df['MedHouseVal'] = data.target\n\n",
       "# Exibir as primeiras linhas\n",
       "df.head()"
      ]
     },
     {
      "cell_type": "markdown",
      "metadata": {},
      "source": [
       "## 📈 Análise Exploratória dos Dados\n\n",
       "Antes de aplicarmos a regressão, vamos entender melhor os dados."
      ]
     },
     {
      "cell_type": "code",
      "metadata": {},
      "source": [
       "# Verificar informações gerais do dataset\n",
       "df.info()\n\n",
       "# Resumo estatístico\n",
       "df.describe()"
      ]
     },
     {
      "cell_type": "code",
      "metadata": {},
      "source": [
       "# Plotar a distribuição dos preços das casas\n",
       "plt.figure(figsize=(8,5))\n",
       "sns.histplot(df['MedHouseVal'], bins=30, kde=True, color='blue')\n",
       "plt.xlabel('Preço Médio das Casas')\n",
       "plt.ylabel('Frequência')\n",
       "plt.title('Distribuição dos Preços das Casas na Califórnia')\n",
       "plt.show()"
      ]
     },
     {
      "cell_type": "markdown",
      "metadata": {},
      "source": [
       "## 🏗️ Preparação dos Dados\n\n",
       "Antes de treinar o modelo, vamos dividir os dados em **treino e teste**."
      ]
     },
     {
      "cell_type": "code",
      "metadata": {},
      "source": [
       "from sklearn.model_selection import train_test_split\n\n",
       "# Definir variáveis independentes (X) e dependente (y)\n",
       "X = df.drop(columns=['MedHouseVal'])\n",
       "y = df['MedHouseVal']\n\n",
       "# Dividir em 80% treino e 20% teste\n",
       "X_train, X_test, y_train, y_test = train_test_split(X, y, test_size=0.2, random_state=42)\n\n",
       "# Mostrar os tamanhos dos conjuntos\n",
       "print(f'Treino: {X_train.shape[0]} amostras, Teste: {X_test.shape[0]} amostras')"
      ]
     },
     {
      "cell_type": "markdown",
      "metadata": {},
      "source": [
       "## 🤖 Treinamento do Modelo de Regressão"
      ]
     },
     {
      "cell_type": "code",
      "metadata": {},
      "source": [
       "from sklearn.linear_model import LinearRegression\n",
       "from sklearn.metrics import mean_squared_error, r2_score\n\n",
       "# Criar e treinar o modelo\n",
       "modelo = LinearRegression()\n",
       "modelo.fit(X_train, y_train)\n\n",
       "# Fazer previsões\n",
       "y_pred = modelo.predict(X_test)\n\n",
       "# Avaliação do modelo\n",
       "mse = mean_squared_error(y_test, y_pred)\n",
       "r2 = r2_score(y_test, y_pred)\n\n",
       "print(f'MSE: {mse:.2f}')\n",
       "print(f'R²: {r2:.2f}')"
      ]
     }
    ],
    "metadata": {
     "kernelspec": {
      "display_name": "Python 3",
      "language": "python",
      "name": "python3"
     }
    },
    "nbformat": 4,
    "nbformat_minor": 4
   }
   